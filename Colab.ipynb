{
  "nbformat": 4,
  "nbformat_minor": 0,
  "metadata": {
    "colab": {
      "name": "AdaIn.ipynb",
      "provenance": [],
      "collapsed_sections": []
    },
    "kernelspec": {
      "name": "python3",
      "display_name": "Python 3"
    },
    "accelerator": "GPU"
  },
  "cells": [
    {
      "cell_type": "markdown",
      "metadata": {
        "id": "78lDbA-Gi-8_",
        "colab_type": "text"
      },
      "source": [
        "# Pytorch Universal Style Transfer\n",
        "\n",
        "(Unofficial implementation)\n",
        "\n",
        "Approach by *Xun Huang* and *Serge Belongie*:\n",
        "[Arbitrary Style Transfer in Real-time with Adaptive Instance Normalization](https://arxiv.org/abs/1703.06868)\n",
        "\n",
        "## Setup"
      ]
    },
    {
      "cell_type": "code",
      "metadata": {
        "id": "nTpZogWorePr",
        "colab_type": "code",
        "outputId": "71e138b0-19b8-4189-e06d-8501fe0d4a76",
        "colab": {
          "base_uri": "https://localhost:8080/",
          "height": 1000
        }
      },
      "source": [
        "!git clone https://github.com/jamesandrewpohadi/pytorch-universal-style-transfer\n",
        "!mv pytorch-universal-style-transfer/* ./\n",
        "!bash setup.sh"
      ],
      "execution_count": 1,
      "outputs": [
        {
          "output_type": "stream",
          "text": [
            "Cloning into 'pytorch-universal-style-transfer'...\n",
            "remote: Enumerating objects: 92, done.\u001b[K\n",
            "remote: Counting objects: 100% (92/92), done.\u001b[K\n",
            "remote: Compressing objects: 100% (71/71), done.\u001b[K\n",
            "remote: Total 92 (delta 27), reused 75 (delta 16), pack-reused 0\u001b[K\n",
            "Unpacking objects: 100% (92/92), done.\n",
            "--2020-01-18 06:55:26--  https://transformer-cds.s3-ap-southeast-1.amazonaws.com/vgg_normalised.pth\n",
            "Resolving transformer-cds.s3-ap-southeast-1.amazonaws.com (transformer-cds.s3-ap-southeast-1.amazonaws.com)... 52.219.128.175\n",
            "Connecting to transformer-cds.s3-ap-southeast-1.amazonaws.com (transformer-cds.s3-ap-southeast-1.amazonaws.com)|52.219.128.175|:443... connected.\n",
            "HTTP request sent, awaiting response... 200 OK\n",
            "Length: 80102481 (76M) [application/x-www-form-urlencoded]\n",
            "Saving to: ‘vgg_normalised.pth’\n",
            "\n",
            "vgg_normalised.pth  100%[===================>]  76.39M  16.1MB/s    in 6.0s    \n",
            "\n",
            "2020-01-18 06:55:33 (12.8 MB/s) - ‘vgg_normalised.pth’ saved [80102481/80102481]\n",
            "\n",
            "--2020-01-18 06:55:33--  https://transformer-cds.s3-ap-southeast-1.amazonaws.com/decoder.pth\n",
            "Resolving transformer-cds.s3-ap-southeast-1.amazonaws.com (transformer-cds.s3-ap-southeast-1.amazonaws.com)... 52.219.128.143\n",
            "Connecting to transformer-cds.s3-ap-southeast-1.amazonaws.com (transformer-cds.s3-ap-southeast-1.amazonaws.com)|52.219.128.143|:443... connected.\n",
            "HTTP request sent, awaiting response... 200 OK\n",
            "Length: 14023458 (13M) [binary/octet-stream]\n",
            "Saving to: ‘decoder.pth’\n",
            "\n",
            "decoder.pth         100%[===================>]  13.37M  6.40MB/s    in 2.1s    \n",
            "\n",
            "2020-01-18 06:55:36 (6.40 MB/s) - ‘decoder.pth’ saved [14023458/14023458]\n",
            "\n",
            "--2020-01-18 06:55:36--  http://images.cocodataset.org/zips/val2014.zip\n",
            "Resolving images.cocodataset.org (images.cocodataset.org)... 52.216.179.235\n",
            "Connecting to images.cocodataset.org (images.cocodataset.org)|52.216.179.235|:80... connected.\n",
            "HTTP request sent, awaiting response... 200 OK\n",
            "Length: 6645013297 (6.2G) [application/zip]\n",
            "Saving to: ‘val2014.zip’\n",
            "\n",
            "val2014.zip         100%[===================>]   6.19G  46.5MB/s    in 2m 16s  \n",
            "\n",
            "2020-01-18 06:57:52 (46.5 MB/s) - ‘val2014.zip’ saved [6645013297/6645013297]\n",
            "\n",
            "--2020-01-18 07:01:05--  https://transformer-cds.s3-ap-southeast-1.amazonaws.com/kaggle.json\n",
            "Resolving transformer-cds.s3-ap-southeast-1.amazonaws.com (transformer-cds.s3-ap-southeast-1.amazonaws.com)... 52.219.32.15\n",
            "Connecting to transformer-cds.s3-ap-southeast-1.amazonaws.com (transformer-cds.s3-ap-southeast-1.amazonaws.com)|52.219.32.15|:443... connected.\n",
            "HTTP request sent, awaiting response... 200 OK\n",
            "Length: 68 [application/json]\n",
            "Saving to: ‘kaggle.json.1’\n",
            "\n",
            "kaggle.json.1       100%[===================>]      68  --.-KB/s    in 0s      \n",
            "\n",
            "2020-01-18 07:01:06 (1.43 MB/s) - ‘kaggle.json.1’ saved [68/68]\n",
            "\n",
            "Warning: Your Kaggle API key is readable by other users on this system! To fix this, you can run 'chmod 600 /root/.kaggle/kaggle.json'\n",
            "Downloading train_2.zip to /content\n",
            "100% 3.67G/3.68G [01:13<00:00, 52.5MB/s]\n",
            "100% 3.68G/3.68G [01:13<00:00, 53.7MB/s]\n",
            "Requirement already satisfied: tqdm in /usr/local/lib/python3.6/dist-packages (from -r requirements.txt (line 1)) (4.28.1)\n",
            "Collecting python-telegram-bot\n",
            "\u001b[?25l  Downloading https://files.pythonhosted.org/packages/11/8f/e1ae8acee0398c041464ceb97be4f76819876df8585660ee402e92015d44/python_telegram_bot-12.3.0-py2.py3-none-any.whl (351kB)\n",
            "\u001b[K     |████████████████████████████████| 358kB 3.5MB/s \n",
            "\u001b[?25hCollecting tornado>=5.1\n",
            "\u001b[?25l  Downloading https://files.pythonhosted.org/packages/30/78/2d2823598496127b21423baffaa186b668f73cd91887fcef78b6eade136b/tornado-6.0.3.tar.gz (482kB)\n",
            "\u001b[K     |████████████████████████████████| 491kB 50.3MB/s \n",
            "\u001b[?25hCollecting cryptography\n",
            "\u001b[?25l  Downloading https://files.pythonhosted.org/packages/ca/9a/7cece52c46546e214e10811b36b2da52ce1ea7fa203203a629b8dfadad53/cryptography-2.8-cp34-abi3-manylinux2010_x86_64.whl (2.3MB)\n",
            "\u001b[K     |████████████████████████████████| 2.3MB 46.1MB/s \n",
            "\u001b[?25hRequirement already satisfied: certifi in /usr/local/lib/python3.6/dist-packages (from python-telegram-bot->-r requirements.txt (line 2)) (2019.11.28)\n",
            "Requirement already satisfied: future>=0.16.0 in /usr/local/lib/python3.6/dist-packages (from python-telegram-bot->-r requirements.txt (line 2)) (0.16.0)\n",
            "Requirement already satisfied: six>=1.4.1 in /usr/local/lib/python3.6/dist-packages (from cryptography->python-telegram-bot->-r requirements.txt (line 2)) (1.12.0)\n",
            "Requirement already satisfied: cffi!=1.11.3,>=1.8 in /usr/local/lib/python3.6/dist-packages (from cryptography->python-telegram-bot->-r requirements.txt (line 2)) (1.13.2)\n",
            "Requirement already satisfied: pycparser in /usr/local/lib/python3.6/dist-packages (from cffi!=1.11.3,>=1.8->cryptography->python-telegram-bot->-r requirements.txt (line 2)) (2.19)\n",
            "Building wheels for collected packages: tornado\n",
            "  Building wheel for tornado (setup.py) ... \u001b[?25l\u001b[?25hdone\n",
            "  Created wheel for tornado: filename=tornado-6.0.3-cp36-cp36m-linux_x86_64.whl size=423199 sha256=40fac49c61782d99ce668ceb3d16d9f6767b528567fd18f44d09ea4bf32e45ae\n",
            "  Stored in directory: /root/.cache/pip/wheels/84/bf/40/2f6ef700f48401ca40e5e3dd7d0e3c0a90e064897b7fe5fc08\n",
            "Successfully built tornado\n",
            "\u001b[31mERROR: google-colab 1.0.0 has requirement tornado~=4.5.0, but you'll have tornado 6.0.3 which is incompatible.\u001b[0m\n",
            "Installing collected packages: tornado, cryptography, python-telegram-bot\n",
            "  Found existing installation: tornado 4.5.3\n",
            "    Uninstalling tornado-4.5.3:\n",
            "      Successfully uninstalled tornado-4.5.3\n",
            "Successfully installed cryptography-2.8 python-telegram-bot-12.3.0 tornado-6.0.3\n"
          ],
          "name": "stdout"
        }
      ]
    },
    {
      "cell_type": "markdown",
      "metadata": {
        "id": "ZaEiFmFrq3jV",
        "colab_type": "text"
      },
      "source": [
        "## Training"
      ]
    },
    {
      "cell_type": "code",
      "metadata": {
        "id": "M0NpPvK4wnrY",
        "colab_type": "code",
        "colab": {}
      },
      "source": [
        "! python3 train.py"
      ],
      "execution_count": 0,
      "outputs": []
    },
    {
      "cell_type": "markdown",
      "metadata": {
        "id": "4a1h6E_prFOI",
        "colab_type": "text"
      },
      "source": [
        "## Testing\n",
        "\n",
        "Put your content and style images in ```./test/content``` and ```./test/style``` folder respectively."
      ]
    },
    {
      "cell_type": "code",
      "metadata": {
        "id": "nOHVUAM10-IM",
        "colab_type": "code",
        "outputId": "2802479d-d48d-40ce-a4aa-a0b36859e22a",
        "colab": {
          "base_uri": "https://localhost:8080/",
          "height": 17
        }
      },
      "source": [
        "! python3 testing.py"
      ],
      "execution_count": 0,
      "outputs": [
        {
          "output_type": "stream",
          "text": [
            ""
          ],
          "name": "stderr"
        }
      ]
    }
  ]
}